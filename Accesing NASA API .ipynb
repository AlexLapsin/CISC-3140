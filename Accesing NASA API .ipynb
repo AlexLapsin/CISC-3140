{
 "cells": [
  {
   "cell_type": "markdown",
   "metadata": {},
   "source": [
    "# Accessing NASA API and displaying the image of the day"
   ]
  },
  {
   "cell_type": "markdown",
   "metadata": {},
   "source": [
    "Importing required libraries"
   ]
  },
  {
   "cell_type": "code",
   "execution_count": 1,
   "metadata": {},
   "outputs": [],
   "source": [
    "import urllib.request\n",
    "import json\n",
    "import webbrowser"
   ]
  },
  {
   "cell_type": "markdown",
   "metadata": {},
   "source": [
    "Defining APOD"
   ]
  },
  {
   "cell_type": "code",
   "execution_count": 2,
   "metadata": {},
   "outputs": [],
   "source": [
    "apodurl = 'https://api.nasa.gov/planetary/apod?'\n",
    "mykey = 'api_key=DEMO_KEY' "
   ]
  },
  {
   "cell_type": "markdown",
   "metadata": {},
   "source": [
    "Calling the web service"
   ]
  },
  {
   "cell_type": "code",
   "execution_count": 3,
   "metadata": {},
   "outputs": [],
   "source": [
    "apodurlobj = urllib.request.urlopen(apodurl + mykey)"
   ]
  },
  {
   "cell_type": "markdown",
   "metadata": {},
   "source": [
    "Reading the file-like object"
   ]
  },
  {
   "cell_type": "code",
   "execution_count": 4,
   "metadata": {},
   "outputs": [],
   "source": [
    "apodread = apodurlobj.read()"
   ]
  },
  {
   "cell_type": "markdown",
   "metadata": {},
   "source": [
    "Printing the JSON version"
   ]
  },
  {
   "cell_type": "code",
   "execution_count": 5,
   "metadata": {},
   "outputs": [
    {
     "name": "stdout",
     "output_type": "stream",
     "text": [
      "b'{\"copyright\":\"Min Xie\",\"date\":\"2019-09-19\",\"explanation\":\"Delicate in appearance, these filaments of shocked, glowing gas, are draped across planet Earth\\'s sky toward the constellation of Cygnus.\",\"hdurl\":\"https://apod.nasa.gov/apod/image/1909/veilXie.jpg\",\"media_type\":\"image\",\"service_version\":\"v1\",\"title\":\"Along the Western Veil\",\"url\":\"https://apod.nasa.gov/apod/image/1909/veilXie1100.jpg\"}\\n'\n"
     ]
    }
   ],
   "source": [
    "print(apodread)"
   ]
  },
  {
   "cell_type": "markdown",
   "metadata": {},
   "source": [
    "Decoding JSON to Python data structure"
   ]
  },
  {
   "cell_type": "code",
   "execution_count": 6,
   "metadata": {},
   "outputs": [],
   "source": [
    "decodeapod = json.loads(apodread.decode('utf-8'))"
   ]
  },
  {
   "cell_type": "markdown",
   "metadata": {},
   "source": [
    "Displaying pythonic data"
   ]
  },
  {
   "cell_type": "code",
   "execution_count": 7,
   "metadata": {},
   "outputs": [
    {
     "name": "stdout",
     "output_type": "stream",
     "text": [
      "\n",
      "Converted python data\n",
      "\n",
      "{'copyright': 'Min Xie', 'date': '2019-09-19', 'explanation': \"Delicate in appearance, these filaments of shocked, glowing gas, are draped across planet Earth's sky toward the constellation of Cygnus.\", 'hdurl': 'https://apod.nasa.gov/apod/image/1909/veilXie.jpg', 'media_type': 'image', 'service_version': 'v1', 'title': 'Along the Western Veil', 'url': 'https://apod.nasa.gov/apod/image/1909/veilXie1100.jpg'}\n"
     ]
    }
   ],
   "source": [
    "print(\"\\nConverted python data\\n\")\n",
    "print(decodeapod)"
   ]
  },
  {
   "cell_type": "markdown",
   "metadata": {},
   "source": [
    "Using firefox to open the HTTPS URL"
   ]
  },
  {
   "cell_type": "code",
   "execution_count": 8,
   "metadata": {
    "scrolled": true
   },
   "outputs": [
    {
     "name": "stdout",
     "output_type": "stream",
     "text": [
      "\n",
      "\n",
      "Press Enter to open NASA Picture of the Day in Firefox\n"
     ]
    },
    {
     "data": {
      "text/plain": [
       "True"
      ]
     },
     "execution_count": 8,
     "metadata": {},
     "output_type": "execute_result"
    }
   ],
   "source": [
    "input('\\n\\nPress Enter to open NASA Picture of the Day in Firefox')\n",
    "webbrowser.open(decodeapod['url'])"
   ]
  }
 ],
 "metadata": {
  "kernelspec": {
   "display_name": "Python 3",
   "language": "python",
   "name": "python3"
  },
  "language_info": {
   "codemirror_mode": {
    "name": "ipython",
    "version": 3
   },
   "file_extension": ".py",
   "mimetype": "text/x-python",
   "name": "python",
   "nbconvert_exporter": "python",
   "pygments_lexer": "ipython3",
   "version": "3.7.3"
  }
 },
 "nbformat": 4,
 "nbformat_minor": 2
}
